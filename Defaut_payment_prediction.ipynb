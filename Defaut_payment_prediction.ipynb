{
  "nbformat": 4,
  "nbformat_minor": 0,
  "metadata": {
    "colab": {
      "provenance": [],
      "include_colab_link": true
    },
    "kernelspec": {
      "name": "python3",
      "display_name": "Python 3"
    },
    "language_info": {
      "name": "python"
    }
  },
  "cells": [
    {
      "cell_type": "markdown",
      "metadata": {
        "id": "view-in-github",
        "colab_type": "text"
      },
      "source": [
        "<a href=\"https://colab.research.google.com/github/truongnc17/Truong-Nguyen/blob/master/Defaut_payment_prediction.ipynb\" target=\"_parent\"><img src=\"https://colab.research.google.com/assets/colab-badge.svg\" alt=\"Open In Colab\"/></a>"
      ]
    },
    {
      "cell_type": "markdown",
      "source": [
        "# Default payment prediction project \n",
        "\n",
        "In this project, I will use dataset ```credit_card_clients.xls``` to train a model for predicting whether a client will default on payment next month or not.\n",
        "\n",
        "I will try to use **Machine Learning classification algorithms** (KNN, Decision Tree, Random Forest, Support Vector Machines and Logistic Regression) to predict that: *\\\"Whether or not a client will default payment in the next month ?\\\"*\n",
        "\n",
        "Then, we will explore which models is the strongest and find out why ?"
      ],
      "metadata": {
        "id": "GtWrAa4tmbO_"
      }
    },
    {
      "cell_type": "markdown",
      "source": [
        "## Dataset information\n",
        "\n",
        "```credit_card_clients.xls``` contains information on default payments, demographic factors, credit data, history of payment, and bill statements of credit card clients in Heaven from April 2005 to September 2005\n",
        "\n",
        "There are 25 attributes: \n",
        "\n",
        "  * ```ID```: ID of each client \n",
        "  * ```LIMIT_BAL```: Amount of given credit in NT dollars (New Taiwan dollars) (includes individual and family/supplementary credit\n",
        "  *```SEX```: Gender (1 = male, 2 = female)\n",
        "  * ```EDUCATION```: (1=graduate school, 2=university, 3=high school, 4=others, 5=unknown, 6=unknown)\n",
        "  * ```MARRIAGE``` Marital status (1=married, 2=single, 3=others)\n",
        "  * ```AGE```: Age in years\n",
        "  * ```PAY_0```,```PAY_1```, ... ,```PAY_6```: Repayment status in September, August, July, June, May, April in 2005 respectively\n",
        "   \n",
        "    * -1 = pay duly\n",
        "    *  1 = payment delay for one month\n",
        "    *  2 = payment delay for two months\n",
        "\n",
        "     ...\n",
        "\n",
        "    *  8 = payment delay for eight months\n",
        "    *  9 = payment delay for nine months and above\n",
        "  * ```BILL_AMT1```, ```BILL_AMT2```, ..., ```BILL_AMT6```: Amount of bill statement in September, August, July, ..., April in 2005 respectively (NT dollar)\n",
        "  * ```PAY_AMT1```, ```PAY_AMT2```, ..., ```PAY_AMT6```: Amount of previous payment in September, August, July, ..., April in 2005 respectively (NT dollar)\n",
        "  * ```default.payment.next.month```: Default payment (1=yes, 0=no)\n",
        "\n",
        "  [Back to cell](#scrollTo=TSv2f9uMayGh&line=3&uniqifier=1)"
      ],
      "metadata": {
        "id": "mjutYsYcSrvI"
      }
    },
    {
      "cell_type": "markdown",
      "source": [
        "## Main Process"
      ],
      "metadata": {
        "id": "_wea2VrGGolS"
      }
    },
    {
      "cell_type": "markdown",
      "source": [
        "### Step 1: Loading the dataset"
      ],
      "metadata": {
        "id": "-2i0xth3kkpC"
      }
    },
    {
      "cell_type": "markdown",
      "source": [
        "It seems that this data has a redundant row (may be this first row is inserted for identifying quickly the number of features and the output feature, but we don't need this row). Furthermore, this dataset has already included index column ```ID```, so I will code like this:"
      ],
      "metadata": {
        "id": "9aWNpBLOpXI_"
      }
    },
    {
      "cell_type": "code",
      "source": [
        "import pandas as pd\n",
        "# Read the dataset using pandas\n",
        "data = pd.read_excel('https://github.com/trangmx/fdc104/blob/main/datasets/credit_card/credit_card_clients.xls?raw=true', header = 1, index_col = 0)\n",
        "\n",
        "# Show the first 5 rows\n",
        "data.head()"
      ],
      "metadata": {
        "colab": {
          "base_uri": "https://localhost:8080/",
          "height": 383
        },
        "id": "hmMqk-ueqO9s",
        "outputId": "525d6976-8262-4cb9-d052-e21f1e01b1cd"
      },
      "execution_count": null,
      "outputs": [
        {
          "output_type": "execute_result",
          "data": {
            "text/plain": [
              "    LIMIT_BAL  SEX  EDUCATION  MARRIAGE  AGE  PAY_0  PAY_2  PAY_3  PAY_4  \\\n",
              "ID                                                                         \n",
              "1       20000    2          2         1   24      2      2     -1     -1   \n",
              "2      120000    2          2         2   26     -1      2      0      0   \n",
              "3       90000    2          2         2   34      0      0      0      0   \n",
              "4       50000    2          2         1   37      0      0      0      0   \n",
              "5       50000    1          2         1   57     -1      0     -1      0   \n",
              "\n",
              "    PAY_5  ...  BILL_AMT4  BILL_AMT5  BILL_AMT6  PAY_AMT1  PAY_AMT2  PAY_AMT3  \\\n",
              "ID         ...                                                                  \n",
              "1      -2  ...          0          0          0         0       689         0   \n",
              "2       0  ...       3272       3455       3261         0      1000      1000   \n",
              "3       0  ...      14331      14948      15549      1518      1500      1000   \n",
              "4       0  ...      28314      28959      29547      2000      2019      1200   \n",
              "5       0  ...      20940      19146      19131      2000     36681     10000   \n",
              "\n",
              "    PAY_AMT4  PAY_AMT5  PAY_AMT6  default payment next month  \n",
              "ID                                                            \n",
              "1          0         0         0                           1  \n",
              "2       1000         0      2000                           1  \n",
              "3       1000      1000      5000                           0  \n",
              "4       1100      1069      1000                           0  \n",
              "5       9000       689       679                           0  \n",
              "\n",
              "[5 rows x 24 columns]"
            ],
            "text/html": [
              "\n",
              "  <div id=\"df-d7f4db5b-595e-4f73-ba7d-4bdad4ba372f\">\n",
              "    <div class=\"colab-df-container\">\n",
              "      <div>\n",
              "<style scoped>\n",
              "    .dataframe tbody tr th:only-of-type {\n",
              "        vertical-align: middle;\n",
              "    }\n",
              "\n",
              "    .dataframe tbody tr th {\n",
              "        vertical-align: top;\n",
              "    }\n",
              "\n",
              "    .dataframe thead th {\n",
              "        text-align: right;\n",
              "    }\n",
              "</style>\n",
              "<table border=\"1\" class=\"dataframe\">\n",
              "  <thead>\n",
              "    <tr style=\"text-align: right;\">\n",
              "      <th></th>\n",
              "      <th>LIMIT_BAL</th>\n",
              "      <th>SEX</th>\n",
              "      <th>EDUCATION</th>\n",
              "      <th>MARRIAGE</th>\n",
              "      <th>AGE</th>\n",
              "      <th>PAY_0</th>\n",
              "      <th>PAY_2</th>\n",
              "      <th>PAY_3</th>\n",
              "      <th>PAY_4</th>\n",
              "      <th>PAY_5</th>\n",
              "      <th>...</th>\n",
              "      <th>BILL_AMT4</th>\n",
              "      <th>BILL_AMT5</th>\n",
              "      <th>BILL_AMT6</th>\n",
              "      <th>PAY_AMT1</th>\n",
              "      <th>PAY_AMT2</th>\n",
              "      <th>PAY_AMT3</th>\n",
              "      <th>PAY_AMT4</th>\n",
              "      <th>PAY_AMT5</th>\n",
              "      <th>PAY_AMT6</th>\n",
              "      <th>default payment next month</th>\n",
              "    </tr>\n",
              "    <tr>\n",
              "      <th>ID</th>\n",
              "      <th></th>\n",
              "      <th></th>\n",
              "      <th></th>\n",
              "      <th></th>\n",
              "      <th></th>\n",
              "      <th></th>\n",
              "      <th></th>\n",
              "      <th></th>\n",
              "      <th></th>\n",
              "      <th></th>\n",
              "      <th></th>\n",
              "      <th></th>\n",
              "      <th></th>\n",
              "      <th></th>\n",
              "      <th></th>\n",
              "      <th></th>\n",
              "      <th></th>\n",
              "      <th></th>\n",
              "      <th></th>\n",
              "      <th></th>\n",
              "      <th></th>\n",
              "    </tr>\n",
              "  </thead>\n",
              "  <tbody>\n",
              "    <tr>\n",
              "      <th>1</th>\n",
              "      <td>20000</td>\n",
              "      <td>2</td>\n",
              "      <td>2</td>\n",
              "      <td>1</td>\n",
              "      <td>24</td>\n",
              "      <td>2</td>\n",
              "      <td>2</td>\n",
              "      <td>-1</td>\n",
              "      <td>-1</td>\n",
              "      <td>-2</td>\n",
              "      <td>...</td>\n",
              "      <td>0</td>\n",
              "      <td>0</td>\n",
              "      <td>0</td>\n",
              "      <td>0</td>\n",
              "      <td>689</td>\n",
              "      <td>0</td>\n",
              "      <td>0</td>\n",
              "      <td>0</td>\n",
              "      <td>0</td>\n",
              "      <td>1</td>\n",
              "    </tr>\n",
              "    <tr>\n",
              "      <th>2</th>\n",
              "      <td>120000</td>\n",
              "      <td>2</td>\n",
              "      <td>2</td>\n",
              "      <td>2</td>\n",
              "      <td>26</td>\n",
              "      <td>-1</td>\n",
              "      <td>2</td>\n",
              "      <td>0</td>\n",
              "      <td>0</td>\n",
              "      <td>0</td>\n",
              "      <td>...</td>\n",
              "      <td>3272</td>\n",
              "      <td>3455</td>\n",
              "      <td>3261</td>\n",
              "      <td>0</td>\n",
              "      <td>1000</td>\n",
              "      <td>1000</td>\n",
              "      <td>1000</td>\n",
              "      <td>0</td>\n",
              "      <td>2000</td>\n",
              "      <td>1</td>\n",
              "    </tr>\n",
              "    <tr>\n",
              "      <th>3</th>\n",
              "      <td>90000</td>\n",
              "      <td>2</td>\n",
              "      <td>2</td>\n",
              "      <td>2</td>\n",
              "      <td>34</td>\n",
              "      <td>0</td>\n",
              "      <td>0</td>\n",
              "      <td>0</td>\n",
              "      <td>0</td>\n",
              "      <td>0</td>\n",
              "      <td>...</td>\n",
              "      <td>14331</td>\n",
              "      <td>14948</td>\n",
              "      <td>15549</td>\n",
              "      <td>1518</td>\n",
              "      <td>1500</td>\n",
              "      <td>1000</td>\n",
              "      <td>1000</td>\n",
              "      <td>1000</td>\n",
              "      <td>5000</td>\n",
              "      <td>0</td>\n",
              "    </tr>\n",
              "    <tr>\n",
              "      <th>4</th>\n",
              "      <td>50000</td>\n",
              "      <td>2</td>\n",
              "      <td>2</td>\n",
              "      <td>1</td>\n",
              "      <td>37</td>\n",
              "      <td>0</td>\n",
              "      <td>0</td>\n",
              "      <td>0</td>\n",
              "      <td>0</td>\n",
              "      <td>0</td>\n",
              "      <td>...</td>\n",
              "      <td>28314</td>\n",
              "      <td>28959</td>\n",
              "      <td>29547</td>\n",
              "      <td>2000</td>\n",
              "      <td>2019</td>\n",
              "      <td>1200</td>\n",
              "      <td>1100</td>\n",
              "      <td>1069</td>\n",
              "      <td>1000</td>\n",
              "      <td>0</td>\n",
              "    </tr>\n",
              "    <tr>\n",
              "      <th>5</th>\n",
              "      <td>50000</td>\n",
              "      <td>1</td>\n",
              "      <td>2</td>\n",
              "      <td>1</td>\n",
              "      <td>57</td>\n",
              "      <td>-1</td>\n",
              "      <td>0</td>\n",
              "      <td>-1</td>\n",
              "      <td>0</td>\n",
              "      <td>0</td>\n",
              "      <td>...</td>\n",
              "      <td>20940</td>\n",
              "      <td>19146</td>\n",
              "      <td>19131</td>\n",
              "      <td>2000</td>\n",
              "      <td>36681</td>\n",
              "      <td>10000</td>\n",
              "      <td>9000</td>\n",
              "      <td>689</td>\n",
              "      <td>679</td>\n",
              "      <td>0</td>\n",
              "    </tr>\n",
              "  </tbody>\n",
              "</table>\n",
              "<p>5 rows × 24 columns</p>\n",
              "</div>\n",
              "      <button class=\"colab-df-convert\" onclick=\"convertToInteractive('df-d7f4db5b-595e-4f73-ba7d-4bdad4ba372f')\"\n",
              "              title=\"Convert this dataframe to an interactive table.\"\n",
              "              style=\"display:none;\">\n",
              "        \n",
              "  <svg xmlns=\"http://www.w3.org/2000/svg\" height=\"24px\"viewBox=\"0 0 24 24\"\n",
              "       width=\"24px\">\n",
              "    <path d=\"M0 0h24v24H0V0z\" fill=\"none\"/>\n",
              "    <path d=\"M18.56 5.44l.94 2.06.94-2.06 2.06-.94-2.06-.94-.94-2.06-.94 2.06-2.06.94zm-11 1L8.5 8.5l.94-2.06 2.06-.94-2.06-.94L8.5 2.5l-.94 2.06-2.06.94zm10 10l.94 2.06.94-2.06 2.06-.94-2.06-.94-.94-2.06-.94 2.06-2.06.94z\"/><path d=\"M17.41 7.96l-1.37-1.37c-.4-.4-.92-.59-1.43-.59-.52 0-1.04.2-1.43.59L10.3 9.45l-7.72 7.72c-.78.78-.78 2.05 0 2.83L4 21.41c.39.39.9.59 1.41.59.51 0 1.02-.2 1.41-.59l7.78-7.78 2.81-2.81c.8-.78.8-2.07 0-2.86zM5.41 20L4 18.59l7.72-7.72 1.47 1.35L5.41 20z\"/>\n",
              "  </svg>\n",
              "      </button>\n",
              "      \n",
              "  <style>\n",
              "    .colab-df-container {\n",
              "      display:flex;\n",
              "      flex-wrap:wrap;\n",
              "      gap: 12px;\n",
              "    }\n",
              "\n",
              "    .colab-df-convert {\n",
              "      background-color: #E8F0FE;\n",
              "      border: none;\n",
              "      border-radius: 50%;\n",
              "      cursor: pointer;\n",
              "      display: none;\n",
              "      fill: #1967D2;\n",
              "      height: 32px;\n",
              "      padding: 0 0 0 0;\n",
              "      width: 32px;\n",
              "    }\n",
              "\n",
              "    .colab-df-convert:hover {\n",
              "      background-color: #E2EBFA;\n",
              "      box-shadow: 0px 1px 2px rgba(60, 64, 67, 0.3), 0px 1px 3px 1px rgba(60, 64, 67, 0.15);\n",
              "      fill: #174EA6;\n",
              "    }\n",
              "\n",
              "    [theme=dark] .colab-df-convert {\n",
              "      background-color: #3B4455;\n",
              "      fill: #D2E3FC;\n",
              "    }\n",
              "\n",
              "    [theme=dark] .colab-df-convert:hover {\n",
              "      background-color: #434B5C;\n",
              "      box-shadow: 0px 1px 3px 1px rgba(0, 0, 0, 0.15);\n",
              "      filter: drop-shadow(0px 1px 2px rgba(0, 0, 0, 0.3));\n",
              "      fill: #FFFFFF;\n",
              "    }\n",
              "  </style>\n",
              "\n",
              "      <script>\n",
              "        const buttonEl =\n",
              "          document.querySelector('#df-d7f4db5b-595e-4f73-ba7d-4bdad4ba372f button.colab-df-convert');\n",
              "        buttonEl.style.display =\n",
              "          google.colab.kernel.accessAllowed ? 'block' : 'none';\n",
              "\n",
              "        async function convertToInteractive(key) {\n",
              "          const element = document.querySelector('#df-d7f4db5b-595e-4f73-ba7d-4bdad4ba372f');\n",
              "          const dataTable =\n",
              "            await google.colab.kernel.invokeFunction('convertToInteractive',\n",
              "                                                     [key], {});\n",
              "          if (!dataTable) return;\n",
              "\n",
              "          const docLinkHtml = 'Like what you see? Visit the ' +\n",
              "            '<a target=\"_blank\" href=https://colab.research.google.com/notebooks/data_table.ipynb>data table notebook</a>'\n",
              "            + ' to learn more about interactive tables.';\n",
              "          element.innerHTML = '';\n",
              "          dataTable['output_type'] = 'display_data';\n",
              "          await google.colab.output.renderOutput(dataTable, element);\n",
              "          const docLink = document.createElement('div');\n",
              "          docLink.innerHTML = docLinkHtml;\n",
              "          element.appendChild(docLink);\n",
              "        }\n",
              "      </script>\n",
              "    </div>\n",
              "  </div>\n",
              "  "
            ]
          },
          "metadata": {},
          "execution_count": 2
        }
      ]
    },
    {
      "cell_type": "markdown",
      "source": [
        "We should have a general view about this dataset using ```describe()``` method of **pandas**"
      ],
      "metadata": {
        "id": "O6Lya5teZlls"
      }
    },
    {
      "cell_type": "code",
      "source": [
        "pd.set_option('display.max_columns', 30)  \n",
        "data.describe()"
      ],
      "metadata": {
        "colab": {
          "base_uri": "https://localhost:8080/",
          "height": 399
        },
        "id": "EVBre067k4Vy",
        "outputId": "c72b08c0-0fa0-4ea9-df84-9c3b8cb81bc6"
      },
      "execution_count": null,
      "outputs": [
        {
          "output_type": "execute_result",
          "data": {
            "text/plain": [
              "            LIMIT_BAL           SEX     EDUCATION      MARRIAGE           AGE  \\\n",
              "count    30000.000000  30000.000000  30000.000000  30000.000000  30000.000000   \n",
              "mean    167484.322667      1.603733      1.853133      1.551867     35.485500   \n",
              "std     129747.661567      0.489129      0.790349      0.521970      9.217904   \n",
              "min      10000.000000      1.000000      0.000000      0.000000     21.000000   \n",
              "25%      50000.000000      1.000000      1.000000      1.000000     28.000000   \n",
              "50%     140000.000000      2.000000      2.000000      2.000000     34.000000   \n",
              "75%     240000.000000      2.000000      2.000000      2.000000     41.000000   \n",
              "max    1000000.000000      2.000000      6.000000      3.000000     79.000000   \n",
              "\n",
              "              PAY_0         PAY_2         PAY_3         PAY_4         PAY_5  \\\n",
              "count  30000.000000  30000.000000  30000.000000  30000.000000  30000.000000   \n",
              "mean      -0.016700     -0.133767     -0.166200     -0.220667     -0.266200   \n",
              "std        1.123802      1.197186      1.196868      1.169139      1.133187   \n",
              "min       -2.000000     -2.000000     -2.000000     -2.000000     -2.000000   \n",
              "25%       -1.000000     -1.000000     -1.000000     -1.000000     -1.000000   \n",
              "50%        0.000000      0.000000      0.000000      0.000000      0.000000   \n",
              "75%        0.000000      0.000000      0.000000      0.000000      0.000000   \n",
              "max        8.000000      8.000000      8.000000      8.000000      8.000000   \n",
              "\n",
              "              PAY_6      BILL_AMT1      BILL_AMT2     BILL_AMT3  \\\n",
              "count  30000.000000   30000.000000   30000.000000  3.000000e+04   \n",
              "mean      -0.291100   51223.330900   49179.075167  4.701315e+04   \n",
              "std        1.149988   73635.860576   71173.768783  6.934939e+04   \n",
              "min       -2.000000 -165580.000000  -69777.000000 -1.572640e+05   \n",
              "25%       -1.000000    3558.750000    2984.750000  2.666250e+03   \n",
              "50%        0.000000   22381.500000   21200.000000  2.008850e+04   \n",
              "75%        0.000000   67091.000000   64006.250000  6.016475e+04   \n",
              "max        8.000000  964511.000000  983931.000000  1.664089e+06   \n",
              "\n",
              "           BILL_AMT4      BILL_AMT5      BILL_AMT6       PAY_AMT1  \\\n",
              "count   30000.000000   30000.000000   30000.000000   30000.000000   \n",
              "mean    43262.948967   40311.400967   38871.760400    5663.580500   \n",
              "std     64332.856134   60797.155770   59554.107537   16563.280354   \n",
              "min   -170000.000000  -81334.000000 -339603.000000       0.000000   \n",
              "25%      2326.750000    1763.000000    1256.000000    1000.000000   \n",
              "50%     19052.000000   18104.500000   17071.000000    2100.000000   \n",
              "75%     54506.000000   50190.500000   49198.250000    5006.000000   \n",
              "max    891586.000000  927171.000000  961664.000000  873552.000000   \n",
              "\n",
              "           PAY_AMT2      PAY_AMT3       PAY_AMT4       PAY_AMT5  \\\n",
              "count  3.000000e+04   30000.00000   30000.000000   30000.000000   \n",
              "mean   5.921163e+03    5225.68150    4826.076867    4799.387633   \n",
              "std    2.304087e+04   17606.96147   15666.159744   15278.305679   \n",
              "min    0.000000e+00       0.00000       0.000000       0.000000   \n",
              "25%    8.330000e+02     390.00000     296.000000     252.500000   \n",
              "50%    2.009000e+03    1800.00000    1500.000000    1500.000000   \n",
              "75%    5.000000e+03    4505.00000    4013.250000    4031.500000   \n",
              "max    1.684259e+06  896040.00000  621000.000000  426529.000000   \n",
              "\n",
              "            PAY_AMT6  default payment next month  \n",
              "count   30000.000000                30000.000000  \n",
              "mean     5215.502567                    0.221200  \n",
              "std     17777.465775                    0.415062  \n",
              "min         0.000000                    0.000000  \n",
              "25%       117.750000                    0.000000  \n",
              "50%      1500.000000                    0.000000  \n",
              "75%      4000.000000                    0.000000  \n",
              "max    528666.000000                    1.000000  "
            ],
            "text/html": [
              "\n",
              "  <div id=\"df-d708a3c5-f9c7-46e3-91e2-09727eac8be4\">\n",
              "    <div class=\"colab-df-container\">\n",
              "      <div>\n",
              "<style scoped>\n",
              "    .dataframe tbody tr th:only-of-type {\n",
              "        vertical-align: middle;\n",
              "    }\n",
              "\n",
              "    .dataframe tbody tr th {\n",
              "        vertical-align: top;\n",
              "    }\n",
              "\n",
              "    .dataframe thead th {\n",
              "        text-align: right;\n",
              "    }\n",
              "</style>\n",
              "<table border=\"1\" class=\"dataframe\">\n",
              "  <thead>\n",
              "    <tr style=\"text-align: right;\">\n",
              "      <th></th>\n",
              "      <th>LIMIT_BAL</th>\n",
              "      <th>SEX</th>\n",
              "      <th>EDUCATION</th>\n",
              "      <th>MARRIAGE</th>\n",
              "      <th>AGE</th>\n",
              "      <th>PAY_0</th>\n",
              "      <th>PAY_2</th>\n",
              "      <th>PAY_3</th>\n",
              "      <th>PAY_4</th>\n",
              "      <th>PAY_5</th>\n",
              "      <th>PAY_6</th>\n",
              "      <th>BILL_AMT1</th>\n",
              "      <th>BILL_AMT2</th>\n",
              "      <th>BILL_AMT3</th>\n",
              "      <th>BILL_AMT4</th>\n",
              "      <th>BILL_AMT5</th>\n",
              "      <th>BILL_AMT6</th>\n",
              "      <th>PAY_AMT1</th>\n",
              "      <th>PAY_AMT2</th>\n",
              "      <th>PAY_AMT3</th>\n",
              "      <th>PAY_AMT4</th>\n",
              "      <th>PAY_AMT5</th>\n",
              "      <th>PAY_AMT6</th>\n",
              "      <th>default payment next month</th>\n",
              "    </tr>\n",
              "  </thead>\n",
              "  <tbody>\n",
              "    <tr>\n",
              "      <th>count</th>\n",
              "      <td>30000.000000</td>\n",
              "      <td>30000.000000</td>\n",
              "      <td>30000.000000</td>\n",
              "      <td>30000.000000</td>\n",
              "      <td>30000.000000</td>\n",
              "      <td>30000.000000</td>\n",
              "      <td>30000.000000</td>\n",
              "      <td>30000.000000</td>\n",
              "      <td>30000.000000</td>\n",
              "      <td>30000.000000</td>\n",
              "      <td>30000.000000</td>\n",
              "      <td>30000.000000</td>\n",
              "      <td>30000.000000</td>\n",
              "      <td>3.000000e+04</td>\n",
              "      <td>30000.000000</td>\n",
              "      <td>30000.000000</td>\n",
              "      <td>30000.000000</td>\n",
              "      <td>30000.000000</td>\n",
              "      <td>3.000000e+04</td>\n",
              "      <td>30000.00000</td>\n",
              "      <td>30000.000000</td>\n",
              "      <td>30000.000000</td>\n",
              "      <td>30000.000000</td>\n",
              "      <td>30000.000000</td>\n",
              "    </tr>\n",
              "    <tr>\n",
              "      <th>mean</th>\n",
              "      <td>167484.322667</td>\n",
              "      <td>1.603733</td>\n",
              "      <td>1.853133</td>\n",
              "      <td>1.551867</td>\n",
              "      <td>35.485500</td>\n",
              "      <td>-0.016700</td>\n",
              "      <td>-0.133767</td>\n",
              "      <td>-0.166200</td>\n",
              "      <td>-0.220667</td>\n",
              "      <td>-0.266200</td>\n",
              "      <td>-0.291100</td>\n",
              "      <td>51223.330900</td>\n",
              "      <td>49179.075167</td>\n",
              "      <td>4.701315e+04</td>\n",
              "      <td>43262.948967</td>\n",
              "      <td>40311.400967</td>\n",
              "      <td>38871.760400</td>\n",
              "      <td>5663.580500</td>\n",
              "      <td>5.921163e+03</td>\n",
              "      <td>5225.68150</td>\n",
              "      <td>4826.076867</td>\n",
              "      <td>4799.387633</td>\n",
              "      <td>5215.502567</td>\n",
              "      <td>0.221200</td>\n",
              "    </tr>\n",
              "    <tr>\n",
              "      <th>std</th>\n",
              "      <td>129747.661567</td>\n",
              "      <td>0.489129</td>\n",
              "      <td>0.790349</td>\n",
              "      <td>0.521970</td>\n",
              "      <td>9.217904</td>\n",
              "      <td>1.123802</td>\n",
              "      <td>1.197186</td>\n",
              "      <td>1.196868</td>\n",
              "      <td>1.169139</td>\n",
              "      <td>1.133187</td>\n",
              "      <td>1.149988</td>\n",
              "      <td>73635.860576</td>\n",
              "      <td>71173.768783</td>\n",
              "      <td>6.934939e+04</td>\n",
              "      <td>64332.856134</td>\n",
              "      <td>60797.155770</td>\n",
              "      <td>59554.107537</td>\n",
              "      <td>16563.280354</td>\n",
              "      <td>2.304087e+04</td>\n",
              "      <td>17606.96147</td>\n",
              "      <td>15666.159744</td>\n",
              "      <td>15278.305679</td>\n",
              "      <td>17777.465775</td>\n",
              "      <td>0.415062</td>\n",
              "    </tr>\n",
              "    <tr>\n",
              "      <th>min</th>\n",
              "      <td>10000.000000</td>\n",
              "      <td>1.000000</td>\n",
              "      <td>0.000000</td>\n",
              "      <td>0.000000</td>\n",
              "      <td>21.000000</td>\n",
              "      <td>-2.000000</td>\n",
              "      <td>-2.000000</td>\n",
              "      <td>-2.000000</td>\n",
              "      <td>-2.000000</td>\n",
              "      <td>-2.000000</td>\n",
              "      <td>-2.000000</td>\n",
              "      <td>-165580.000000</td>\n",
              "      <td>-69777.000000</td>\n",
              "      <td>-1.572640e+05</td>\n",
              "      <td>-170000.000000</td>\n",
              "      <td>-81334.000000</td>\n",
              "      <td>-339603.000000</td>\n",
              "      <td>0.000000</td>\n",
              "      <td>0.000000e+00</td>\n",
              "      <td>0.00000</td>\n",
              "      <td>0.000000</td>\n",
              "      <td>0.000000</td>\n",
              "      <td>0.000000</td>\n",
              "      <td>0.000000</td>\n",
              "    </tr>\n",
              "    <tr>\n",
              "      <th>25%</th>\n",
              "      <td>50000.000000</td>\n",
              "      <td>1.000000</td>\n",
              "      <td>1.000000</td>\n",
              "      <td>1.000000</td>\n",
              "      <td>28.000000</td>\n",
              "      <td>-1.000000</td>\n",
              "      <td>-1.000000</td>\n",
              "      <td>-1.000000</td>\n",
              "      <td>-1.000000</td>\n",
              "      <td>-1.000000</td>\n",
              "      <td>-1.000000</td>\n",
              "      <td>3558.750000</td>\n",
              "      <td>2984.750000</td>\n",
              "      <td>2.666250e+03</td>\n",
              "      <td>2326.750000</td>\n",
              "      <td>1763.000000</td>\n",
              "      <td>1256.000000</td>\n",
              "      <td>1000.000000</td>\n",
              "      <td>8.330000e+02</td>\n",
              "      <td>390.00000</td>\n",
              "      <td>296.000000</td>\n",
              "      <td>252.500000</td>\n",
              "      <td>117.750000</td>\n",
              "      <td>0.000000</td>\n",
              "    </tr>\n",
              "    <tr>\n",
              "      <th>50%</th>\n",
              "      <td>140000.000000</td>\n",
              "      <td>2.000000</td>\n",
              "      <td>2.000000</td>\n",
              "      <td>2.000000</td>\n",
              "      <td>34.000000</td>\n",
              "      <td>0.000000</td>\n",
              "      <td>0.000000</td>\n",
              "      <td>0.000000</td>\n",
              "      <td>0.000000</td>\n",
              "      <td>0.000000</td>\n",
              "      <td>0.000000</td>\n",
              "      <td>22381.500000</td>\n",
              "      <td>21200.000000</td>\n",
              "      <td>2.008850e+04</td>\n",
              "      <td>19052.000000</td>\n",
              "      <td>18104.500000</td>\n",
              "      <td>17071.000000</td>\n",
              "      <td>2100.000000</td>\n",
              "      <td>2.009000e+03</td>\n",
              "      <td>1800.00000</td>\n",
              "      <td>1500.000000</td>\n",
              "      <td>1500.000000</td>\n",
              "      <td>1500.000000</td>\n",
              "      <td>0.000000</td>\n",
              "    </tr>\n",
              "    <tr>\n",
              "      <th>75%</th>\n",
              "      <td>240000.000000</td>\n",
              "      <td>2.000000</td>\n",
              "      <td>2.000000</td>\n",
              "      <td>2.000000</td>\n",
              "      <td>41.000000</td>\n",
              "      <td>0.000000</td>\n",
              "      <td>0.000000</td>\n",
              "      <td>0.000000</td>\n",
              "      <td>0.000000</td>\n",
              "      <td>0.000000</td>\n",
              "      <td>0.000000</td>\n",
              "      <td>67091.000000</td>\n",
              "      <td>64006.250000</td>\n",
              "      <td>6.016475e+04</td>\n",
              "      <td>54506.000000</td>\n",
              "      <td>50190.500000</td>\n",
              "      <td>49198.250000</td>\n",
              "      <td>5006.000000</td>\n",
              "      <td>5.000000e+03</td>\n",
              "      <td>4505.00000</td>\n",
              "      <td>4013.250000</td>\n",
              "      <td>4031.500000</td>\n",
              "      <td>4000.000000</td>\n",
              "      <td>0.000000</td>\n",
              "    </tr>\n",
              "    <tr>\n",
              "      <th>max</th>\n",
              "      <td>1000000.000000</td>\n",
              "      <td>2.000000</td>\n",
              "      <td>6.000000</td>\n",
              "      <td>3.000000</td>\n",
              "      <td>79.000000</td>\n",
              "      <td>8.000000</td>\n",
              "      <td>8.000000</td>\n",
              "      <td>8.000000</td>\n",
              "      <td>8.000000</td>\n",
              "      <td>8.000000</td>\n",
              "      <td>8.000000</td>\n",
              "      <td>964511.000000</td>\n",
              "      <td>983931.000000</td>\n",
              "      <td>1.664089e+06</td>\n",
              "      <td>891586.000000</td>\n",
              "      <td>927171.000000</td>\n",
              "      <td>961664.000000</td>\n",
              "      <td>873552.000000</td>\n",
              "      <td>1.684259e+06</td>\n",
              "      <td>896040.00000</td>\n",
              "      <td>621000.000000</td>\n",
              "      <td>426529.000000</td>\n",
              "      <td>528666.000000</td>\n",
              "      <td>1.000000</td>\n",
              "    </tr>\n",
              "  </tbody>\n",
              "</table>\n",
              "</div>\n",
              "      <button class=\"colab-df-convert\" onclick=\"convertToInteractive('df-d708a3c5-f9c7-46e3-91e2-09727eac8be4')\"\n",
              "              title=\"Convert this dataframe to an interactive table.\"\n",
              "              style=\"display:none;\">\n",
              "        \n",
              "  <svg xmlns=\"http://www.w3.org/2000/svg\" height=\"24px\"viewBox=\"0 0 24 24\"\n",
              "       width=\"24px\">\n",
              "    <path d=\"M0 0h24v24H0V0z\" fill=\"none\"/>\n",
              "    <path d=\"M18.56 5.44l.94 2.06.94-2.06 2.06-.94-2.06-.94-.94-2.06-.94 2.06-2.06.94zm-11 1L8.5 8.5l.94-2.06 2.06-.94-2.06-.94L8.5 2.5l-.94 2.06-2.06.94zm10 10l.94 2.06.94-2.06 2.06-.94-2.06-.94-.94-2.06-.94 2.06-2.06.94z\"/><path d=\"M17.41 7.96l-1.37-1.37c-.4-.4-.92-.59-1.43-.59-.52 0-1.04.2-1.43.59L10.3 9.45l-7.72 7.72c-.78.78-.78 2.05 0 2.83L4 21.41c.39.39.9.59 1.41.59.51 0 1.02-.2 1.41-.59l7.78-7.78 2.81-2.81c.8-.78.8-2.07 0-2.86zM5.41 20L4 18.59l7.72-7.72 1.47 1.35L5.41 20z\"/>\n",
              "  </svg>\n",
              "      </button>\n",
              "      \n",
              "  <style>\n",
              "    .colab-df-container {\n",
              "      display:flex;\n",
              "      flex-wrap:wrap;\n",
              "      gap: 12px;\n",
              "    }\n",
              "\n",
              "    .colab-df-convert {\n",
              "      background-color: #E8F0FE;\n",
              "      border: none;\n",
              "      border-radius: 50%;\n",
              "      cursor: pointer;\n",
              "      display: none;\n",
              "      fill: #1967D2;\n",
              "      height: 32px;\n",
              "      padding: 0 0 0 0;\n",
              "      width: 32px;\n",
              "    }\n",
              "\n",
              "    .colab-df-convert:hover {\n",
              "      background-color: #E2EBFA;\n",
              "      box-shadow: 0px 1px 2px rgba(60, 64, 67, 0.3), 0px 1px 3px 1px rgba(60, 64, 67, 0.15);\n",
              "      fill: #174EA6;\n",
              "    }\n",
              "\n",
              "    [theme=dark] .colab-df-convert {\n",
              "      background-color: #3B4455;\n",
              "      fill: #D2E3FC;\n",
              "    }\n",
              "\n",
              "    [theme=dark] .colab-df-convert:hover {\n",
              "      background-color: #434B5C;\n",
              "      box-shadow: 0px 1px 3px 1px rgba(0, 0, 0, 0.15);\n",
              "      filter: drop-shadow(0px 1px 2px rgba(0, 0, 0, 0.3));\n",
              "      fill: #FFFFFF;\n",
              "    }\n",
              "  </style>\n",
              "\n",
              "      <script>\n",
              "        const buttonEl =\n",
              "          document.querySelector('#df-d708a3c5-f9c7-46e3-91e2-09727eac8be4 button.colab-df-convert');\n",
              "        buttonEl.style.display =\n",
              "          google.colab.kernel.accessAllowed ? 'block' : 'none';\n",
              "\n",
              "        async function convertToInteractive(key) {\n",
              "          const element = document.querySelector('#df-d708a3c5-f9c7-46e3-91e2-09727eac8be4');\n",
              "          const dataTable =\n",
              "            await google.colab.kernel.invokeFunction('convertToInteractive',\n",
              "                                                     [key], {});\n",
              "          if (!dataTable) return;\n",
              "\n",
              "          const docLinkHtml = 'Like what you see? Visit the ' +\n",
              "            '<a target=\"_blank\" href=https://colab.research.google.com/notebooks/data_table.ipynb>data table notebook</a>'\n",
              "            + ' to learn more about interactive tables.';\n",
              "          element.innerHTML = '';\n",
              "          dataTable['output_type'] = 'display_data';\n",
              "          await google.colab.output.renderOutput(dataTable, element);\n",
              "          const docLink = document.createElement('div');\n",
              "          docLink.innerHTML = docLinkHtml;\n",
              "          element.appendChild(docLink);\n",
              "        }\n",
              "      </script>\n",
              "    </div>\n",
              "  </div>\n",
              "  "
            ]
          },
          "metadata": {},
          "execution_count": 3
        }
      ]
    },
    {
      "cell_type": "markdown",
      "source": [
        "### Step 2: Preprocessing the dataset \n",
        "\n",
        "In this step, we will remove duplicate values, handle categorical features and feature scalling"
      ],
      "metadata": {
        "id": "KiA9-h_Akq_1"
      }
    },
    {
      "cell_type": "markdown",
      "source": [
        "#### Handle missing value"
      ],
      "metadata": {
        "id": "QxBDfZ3G8n-F"
      }
    },
    {
      "cell_type": "code",
      "source": [
        "# Check for total missing value of each feature\n",
        "data.isnull().sum()"
      ],
      "metadata": {
        "colab": {
          "base_uri": "https://localhost:8080/"
        },
        "id": "sf-1CZQFZaxt",
        "outputId": "d5e7186e-0701-40ee-9a82-76d38558b115"
      },
      "execution_count": null,
      "outputs": [
        {
          "output_type": "execute_result",
          "data": {
            "text/plain": [
              "LIMIT_BAL                     0\n",
              "SEX                           0\n",
              "EDUCATION                     0\n",
              "MARRIAGE                      0\n",
              "AGE                           0\n",
              "PAY_0                         0\n",
              "PAY_2                         0\n",
              "PAY_3                         0\n",
              "PAY_4                         0\n",
              "PAY_5                         0\n",
              "PAY_6                         0\n",
              "BILL_AMT1                     0\n",
              "BILL_AMT2                     0\n",
              "BILL_AMT3                     0\n",
              "BILL_AMT4                     0\n",
              "BILL_AMT5                     0\n",
              "BILL_AMT6                     0\n",
              "PAY_AMT1                      0\n",
              "PAY_AMT2                      0\n",
              "PAY_AMT3                      0\n",
              "PAY_AMT4                      0\n",
              "PAY_AMT5                      0\n",
              "PAY_AMT6                      0\n",
              "default payment next month    0\n",
              "dtype: int64"
            ]
          },
          "metadata": {},
          "execution_count": 4
        }
      ]
    },
    {
      "cell_type": "markdown",
      "source": [
        "Good, there is no missing value at all !\n",
        "\n",
        "Then we need to check the domain of each feature to ensure that there is no misunderstanding values with the [dataset description](#scrollTo=mjutYsYcSrvI&line=25&uniqifier=1)"
      ],
      "metadata": {
        "id": "TSv2f9uMayGh"
      }
    },
    {
      "cell_type": "markdown",
      "source": [
        "#### Reconstruct the range of values associated with the attributes"
      ],
      "metadata": {
        "id": "2hPiXuG88tPL"
      }
    },
    {
      "cell_type": "code",
      "source": [
        "import numpy as np \n",
        "\n",
        "for col in data.columns:\n",
        "  range = data[col].unique()\n",
        "  range = np.sort(range)\n",
        "  print(f'{col} ({len(range)} distinct values): {range} \\n')"
      ],
      "metadata": {
        "colab": {
          "base_uri": "https://localhost:8080/"
        },
        "id": "uL08jF_Flk48",
        "outputId": "fc23c237-c3e7-4d0b-957c-0d4120ddece7"
      },
      "execution_count": null,
      "outputs": [
        {
          "output_type": "stream",
          "name": "stdout",
          "text": [
            "LIMIT_BAL (81 distinct values): [  10000   16000   20000   30000   40000   50000   60000   70000   80000\n",
            "   90000  100000  110000  120000  130000  140000  150000  160000  170000\n",
            "  180000  190000  200000  210000  220000  230000  240000  250000  260000\n",
            "  270000  280000  290000  300000  310000  320000  327680  330000  340000\n",
            "  350000  360000  370000  380000  390000  400000  410000  420000  430000\n",
            "  440000  450000  460000  470000  480000  490000  500000  510000  520000\n",
            "  530000  540000  550000  560000  570000  580000  590000  600000  610000\n",
            "  620000  630000  640000  650000  660000  670000  680000  690000  700000\n",
            "  710000  720000  730000  740000  750000  760000  780000  800000 1000000] \n",
            "\n",
            "SEX (2 distinct values): [1 2] \n",
            "\n",
            "EDUCATION (7 distinct values): [0 1 2 3 4 5 6] \n",
            "\n",
            "MARRIAGE (4 distinct values): [0 1 2 3] \n",
            "\n",
            "AGE (56 distinct values): [21 22 23 24 25 26 27 28 29 30 31 32 33 34 35 36 37 38 39 40 41 42 43 44\n",
            " 45 46 47 48 49 50 51 52 53 54 55 56 57 58 59 60 61 62 63 64 65 66 67 68\n",
            " 69 70 71 72 73 74 75 79] \n",
            "\n",
            "PAY_0 (11 distinct values): [-2 -1  0  1  2  3  4  5  6  7  8] \n",
            "\n",
            "PAY_2 (11 distinct values): [-2 -1  0  1  2  3  4  5  6  7  8] \n",
            "\n",
            "PAY_3 (11 distinct values): [-2 -1  0  1  2  3  4  5  6  7  8] \n",
            "\n",
            "PAY_4 (11 distinct values): [-2 -1  0  1  2  3  4  5  6  7  8] \n",
            "\n",
            "PAY_5 (10 distinct values): [-2 -1  0  2  3  4  5  6  7  8] \n",
            "\n",
            "PAY_6 (10 distinct values): [-2 -1  0  2  3  4  5  6  7  8] \n",
            "\n",
            "BILL_AMT1 (22723 distinct values): [-165580 -154973  -15308 ...  653062  746814  964511] \n",
            "\n",
            "BILL_AMT2 (22346 distinct values): [-69777 -67526 -33350 ... 671563 743970 983931] \n",
            "\n",
            "BILL_AMT3 (22026 distinct values): [-157264  -61506  -46127 ...  693131  855086 1664089] \n",
            "\n",
            "BILL_AMT4 (21548 distinct values): [-170000  -81334  -65167 ...  628699  706864  891586] \n",
            "\n",
            "BILL_AMT5 (21010 distinct values): [-81334 -61372 -53007 ... 587067 823540 927171] \n",
            "\n",
            "BILL_AMT6 (20604 distinct values): [-339603 -209051 -150953 ...  568638  699944  961664] \n",
            "\n",
            "PAY_AMT1 (7943 distinct values): [     0      1      2 ... 493358 505000 873552] \n",
            "\n",
            "PAY_AMT2 (7899 distinct values): [      0       1       2 ... 1215471 1227082 1684259] \n",
            "\n",
            "PAY_AMT3 (7518 distinct values): [     0      1      2 ... 508229 889043 896040] \n",
            "\n",
            "PAY_AMT4 (6937 distinct values): [     0      1      2 ... 497000 528897 621000] \n",
            "\n",
            "PAY_AMT5 (6897 distinct values): [     0      1      2 ... 388071 417990 426529] \n",
            "\n",
            "PAY_AMT6 (6939 distinct values): [     0      1      2 ... 443001 527143 528666] \n",
            "\n",
            "default payment next month (2 distinct values): [0 1] \n",
            "\n"
          ]
        }
      ]
    },
    {
      "cell_type": "markdown",
      "source": [
        "It can be seen that there is some conflict of feature ```'EDUCATION'```, ```'MARRIAGE'``` and ```'PAY_x'``` with the dataset description. Let's hanle them: \n",
        "\n"
      ],
      "metadata": {
        "id": "QVVP5kaUzGoH"
      }
    },
    {
      "cell_type": "markdown",
      "source": [
        "<b>1. EDUCATION & MARRIAGE</b> \n",
        "\n",
        "Let's check the histogram of this feature first"
      ],
      "metadata": {
        "id": "LFR5fuE644GU"
      }
    },
    {
      "cell_type": "code",
      "source": [
        "import matplotlib.pyplot as plt #draw graph"
      ],
      "metadata": {
        "id": "SqIeaF3i38Zq"
      },
      "execution_count": null,
      "outputs": []
    },
    {
      "cell_type": "code",
      "source": [
        "%matplotlib inline \n",
        "#Tells the IPython environment to draw the plots immediately after the current cell."
      ],
      "metadata": {
        "id": "KTpzY6re4q0p"
      },
      "execution_count": null,
      "outputs": []
    },
    {
      "cell_type": "code",
      "source": [
        "df = data[['EDUCATION','MARRIAGE']] \n",
        "\n",
        "df.plot(kind = 'hist', \n",
        "        figsize = (14,4), \n",
        "        subplots = True, \n",
        "        ylabel = 'Count', \n",
        "        colormap = 'tab20b',\n",
        "        layout=(1, len(df.columns)))"
      ],
      "metadata": {
        "colab": {
          "base_uri": "https://localhost:8080/",
          "height": 405
        },
        "id": "XATu_QRy8XN-",
        "outputId": "b8f79ffc-11f6-49e0-c7fd-ae2d2a80f9d5"
      },
      "execution_count": null,
      "outputs": [
        {
          "output_type": "execute_result",
          "data": {
            "text/plain": [
              "array([[<Axes: ylabel='Frequency'>, <Axes: ylabel='Frequency'>]],\n",
              "      dtype=object)"
            ]
          },
          "metadata": {},
          "execution_count": 8
        },
        {
          "output_type": "display_data",
          "data": {
            "text/plain": [
              "<Figure size 1400x400 with 2 Axes>"
            ],
            "image/png": "[encoded data removed]"
          },
          "metadata": {}
        }
      ]
    },
    {
      "cell_type": "markdown",
      "source": [
        "* ```EDUCATION```: \n",
        "\n",
        "Since the number of unknown value (0,5,6) is very small, so I will change these values into 4 (others). So the range of values of this feature is: \n",
        "```\n",
        "{ \n",
        "    1:'graduate school',\n",
        "    2:'university',\n",
        "    3:'high school',\n",
        "    4:'others'\n",
        "}\n",
        "```\n",
        "* ```MARRIAGE```: \n",
        "\n",
        "Since the number of unknown value 0 is very small, so I will change these values into 3 (others). So the range of values of this feature is: \n",
        "```\n",
        "{ \n",
        "    1:'married',\n",
        "    2:'single',\n",
        "    3:'others'\n",
        "}\n",
        "```"
      ],
      "metadata": {
        "id": "F_iTXkn-5uVG"
      }
    },
    {
      "cell_type": "code",
      "source": [
        "data['EDUCATION'].replace([0,5,6], 4, inplace=True)"
      ],
      "metadata": {
        "id": "0ykOhBAI6GG5"
      },
      "execution_count": null,
      "outputs": []
    },
    {
      "cell_type": "code",
      "source": [
        "data['MARRIAGE'].replace(0, 3, inplace=True)"
      ],
      "metadata": {
        "id": "Ohb07UNp6wS8"
      },
      "execution_count": null,
      "outputs": []
    },
    {
      "cell_type": "markdown",
      "source": [
        "<b>2. PAY_0, PAY_2, ... , PAY_6</b> \n",
        "\n",
        "Let's check the histogram of these feature first"
      ],
      "metadata": {
        "id": "NbmBSZkQAzu3"
      }
    },
    {
      "cell_type": "code",
      "source": [
        "# Rename the column PAY_0 into PAY_1 \n",
        "data.rename(columns = {'PAY_0':'PAY_1'}, inplace = True)"
      ],
      "metadata": {
        "id": "2UTGJI8FA_gk"
      },
      "execution_count": null,
      "outputs": []
    },
    {
      "cell_type": "code",
      "source": [
        "my_lst = [f\"PAY_{i}\" for i in np.arange(1,7)]\n",
        "df_pay = data[my_lst]\n",
        "\n",
        "df_pay.plot(kind='hist',\n",
        "            subplots=True,\n",
        "            figsize = (18,6),\n",
        "            xlim = (-2,9),\n",
        "            xticks = np.arange(-2,9),\n",
        "            ylabel='Count',\n",
        "            colormap='tab20b',\n",
        "            layout=(2,3))"
      ],
      "metadata": {
        "colab": {
          "base_uri": "https://localhost:8080/",
          "height": 539
        },
        "id": "xfMd8yUSwcvY",
        "outputId": "2f94dbba-2da8-46c8-df45-699cfb1e4e17"
      },
      "execution_count": null,
      "outputs": [
        {
          "output_type": "execute_result",
          "data": {
            "text/plain": [
              "array([[<Axes: ylabel='Frequency'>, <Axes: ylabel='Frequency'>,\n",
              "        <Axes: ylabel='Frequency'>],\n",
              "       [<Axes: ylabel='Frequency'>, <Axes: ylabel='Frequency'>,\n",
              "        <Axes: ylabel='Frequency'>]], dtype=object)"
            ]
          },
          "metadata": {},
          "execution_count": 12
        },
        {
          "output_type": "display_data",
          "data": {
            "text/plain": [
              "<Figure size 1800x600 with 6 Axes>"
            ],
            "image/png": "[encoded data removed]"
          },
          "metadata": {}
        }
      ]
    },
    {
      "cell_type": "markdown",
      "source": [
        "From all the histograms above, we can see that in all months, the number of people that pay duly is very high compare to the others. Hence, it is reasonable that the value -2, -1 (pay duly) and 0 will change to 0 (pay duly) "
      ],
      "metadata": {
        "id": "mHTRx3i-1uye"
      }
    },
    {
      "cell_type": "code",
      "source": [
        "# Replace -2,-1 into 0 in all 'PAY_x' attributes\n",
        "for col in my_lst: \n",
        "  data[col].replace([-2,-1,0], 0, inplace=True)"
      ],
      "metadata": {
        "id": "i4o3Y9D85CBo"
      },
      "execution_count": null,
      "outputs": []
    },
    {
      "cell_type": "markdown",
      "source": [
        "#### Check the format of attribute data"
      ],
      "metadata": {
        "id": "bsXsGqoh9WJ3"
      }
    },
    {
      "cell_type": "code",
      "source": [
        "data.dtypes"
      ],
      "metadata": {
        "colab": {
          "base_uri": "https://localhost:8080/"
        },
        "id": "MWa36N0P9tC8",
        "outputId": "6d3e1277-0982-4ec2-ef94-1044f2e7b87e"
      },
      "execution_count": null,
      "outputs": [
        {
          "output_type": "execute_result",
          "data": {
            "text/plain": [
              "LIMIT_BAL                     int64\n",
              "SEX                           int64\n",
              "EDUCATION                     int64\n",
              "MARRIAGE                      int64\n",
              "AGE                           int64\n",
              "PAY_1                         int64\n",
              "PAY_2                         int64\n",
              "PAY_3                         int64\n",
              "PAY_4                         int64\n",
              "PAY_5                         int64\n",
              "PAY_6                         int64\n",
              "BILL_AMT1                     int64\n",
              "BILL_AMT2                     int64\n",
              "BILL_AMT3                     int64\n",
              "BILL_AMT4                     int64\n",
              "BILL_AMT5                     int64\n",
              "BILL_AMT6                     int64\n",
              "PAY_AMT1                      int64\n",
              "PAY_AMT2                      int64\n",
              "PAY_AMT3                      int64\n",
              "PAY_AMT4                      int64\n",
              "PAY_AMT5                      int64\n",
              "PAY_AMT6                      int64\n",
              "default payment next month    int64\n",
              "dtype: object"
            ]
          },
          "metadata": {},
          "execution_count": 14
        }
      ]
    },
    {
      "cell_type": "markdown",
      "source": [
        "All attributes here are in type ```int64``` so we don't need to convert anymore"
      ],
      "metadata": {
        "id": "tzf66UEQ-ytg"
      }
    },
    {
      "cell_type": "markdown",
      "source": [
        "#### Data rescalling\n",
        "\n",
        "I will transform **NT dollar** into **USD** by the ratio: \n",
        "\n",
        " ```1 TWD = 0.033 USD```"
      ],
      "metadata": {
        "id": "7iisq401-9kO"
      }
    },
    {
      "cell_type": "code",
      "source": [
        "# Rescale BILL and PAY\n",
        "for i in np.arange(data.columns.get_loc('BILL_AMT1'), data.columns.get_loc('default payment next month')):\n",
        "  data.iloc[:,i] = data.iloc[:,i] * 0.003 "
      ],
      "metadata": {
        "id": "qcd4Ht-K_T60"
      },
      "execution_count": null,
      "outputs": []
    },
    {
      "cell_type": "code",
      "source": [
        "# Rescale LIMIT_BAL\n",
        "data['LIMIT_BAL'] = data['LIMIT_BAL'] * 0.003"
      ],
      "metadata": {
        "id": "UP6MzynLEdaM"
      },
      "execution_count": null,
      "outputs": []
    },
    {
      "cell_type": "markdown",
      "source": [
        "#### Data normalizing/standardizing \n",
        "\n"
      ],
      "metadata": {
        "id": "UqZJ3y5cCQu3"
      }
    },
    {
      "cell_type": "markdown",
      "source": [
        "In this step, I want to normalize the range of attributes in **USD** unit into **[0,1]**\n",
        "\n",
        " To decide using ***normalization*** (change the values of numeric columns in the dataset to a common scale, without distorting differences in the ranges of values) or ***standardization*** (change the values of numeric columns in the dataset to Gaussian distribution), I need to using histogram to check their distribution first: "
      ],
      "metadata": {
        "id": "1-hE8R2oCbD8"
      }
    },
    {
      "cell_type": "code",
      "source": [
        "money_lst = [data.columns[i] \n",
        "             for i in np.arange(\n",
        "                 data.columns.get_loc('BILL_AMT1'), \n",
        "                 data.columns.get_loc('default payment next month'\n",
        "                 ))\n",
        "             ]\n",
        "print(money_lst)\n",
        "print(len(money_lst))"
      ],
      "metadata": {
        "colab": {
          "base_uri": "https://localhost:8080/"
        },
        "id": "ZlG70TnZF4-h",
        "outputId": "c5b2e692-962a-4cae-88b8-c31637be0a89"
      },
      "execution_count": null,
      "outputs": [
        {
          "output_type": "stream",
          "name": "stdout",
          "text": [
            "['BILL_AMT1', 'BILL_AMT2', 'BILL_AMT3', 'BILL_AMT4', 'BILL_AMT5', 'BILL_AMT6', 'PAY_AMT1', 'PAY_AMT2', 'PAY_AMT3', 'PAY_AMT4', 'PAY_AMT5', 'PAY_AMT6']\n",
            "12\n"
          ]
        }
      ]
    },
    {
      "cell_type": "code",
      "source": [
        "data[money_lst].plot(kind='hist',\n",
        "                     subplots=True,\n",
        "                     figsize=(20,14),\n",
        "                     layout=(4,3),\n",
        "                     bins=15,\n",
        "                     xlim = (-1000,1500),\n",
        "                     xticks=np.arange(-1000,1501,500),\n",
        "                     colormap='tab20b',\n",
        "                     xlabel='Money',\n",
        "                     ylabel='Frequency'\n",
        "                     )\n"
      ],
      "metadata": {
        "colab": {
          "base_uri": "https://localhost:8080/",
          "height": 1000
        },
        "id": "E9sb_fBdG85t",
        "outputId": "f2310751-9f18-4135-e8bd-775645e547ac"
      },
      "execution_count": null,
      "outputs": [
        {
          "output_type": "execute_result",
          "data": {
            "text/plain": [
              "array([[<Axes: ylabel='Frequency'>, <Axes: ylabel='Frequency'>,\n",
              "        <Axes: ylabel='Frequency'>],\n",
              "       [<Axes: ylabel='Frequency'>, <Axes: ylabel='Frequency'>,\n",
              "        <Axes: ylabel='Frequency'>],\n",
              "       [<Axes: ylabel='Frequency'>, <Axes: ylabel='Frequency'>,\n",
              "        <Axes: ylabel='Frequency'>],\n",
              "       [<Axes: ylabel='Frequency'>, <Axes: ylabel='Frequency'>,\n",
              "        <Axes: ylabel='Frequency'>]], dtype=object)"
            ]
          },
          "metadata": {},
          "execution_count": 18
        },
        {
          "output_type": "display_data",
          "data": {
            "text/plain": [
              "<Figure size 2000x1400 with 12 Axes>"
            ],
            "image/png": "[encoded data removed]"
          },
          "metadata": {}
        }
      ]
    },
    {
      "cell_type": "code",
      "source": [
        "data['LIMIT_BAL'].plot(kind='hist',\n",
        "                     subplots=True,\n",
        "                     figsize=(20,14),\n",
        "                     layout=(4,3),\n",
        "                     bins=15,\n",
        "                     xlim = (-1000,3000),\n",
        "                     xticks=np.arange(-1000,3001,500),\n",
        "                     colormap='tab20b',\n",
        "                     xlabel='Money',\n",
        "                     ylabel='Frequency'\n",
        "                     )\n"
      ],
      "metadata": {
        "colab": {
          "base_uri": "https://localhost:8080/",
          "height": 441
        },
        "id": "vEiDdeC4KkiS",
        "outputId": "d6ce52e8-7368-4100-ccea-ae780fc2e793"
      },
      "execution_count": null,
      "outputs": [
        {
          "output_type": "execute_result",
          "data": {
            "text/plain": [
              "array([[<Axes: ylabel='Frequency'>, <Axes: ylabel='Frequency'>,\n",
              "        <Axes: ylabel='Frequency'>],\n",
              "       [<Axes: ylabel='Frequency'>, <Axes: ylabel='Frequency'>,\n",
              "        <Axes: ylabel='Frequency'>],\n",
              "       [<Axes: ylabel='Frequency'>, <Axes: ylabel='Frequency'>,\n",
              "        <Axes: ylabel='Frequency'>],\n",
              "       [<Axes: ylabel='Frequency'>, <Axes: ylabel='Frequency'>,\n",
              "        <Axes: ylabel='Frequency'>]], dtype=object)"
            ]
          },
          "metadata": {},
          "execution_count": 19
        },
        {
          "output_type": "display_data",
          "data": {
            "text/plain": [
              "<Figure size 2000x1400 with 12 Axes>"
            ],
            "image/png": "[encoded data removed]"
          },
          "metadata": {}
        }
      ]
    },
    {
      "cell_type": "markdown",
      "source": [
        "All the features above do not have the form bell shape, so I will normalize all the features considered above.\n",
        "\n",
        "* Formulas for normalizing: \n",
        "$$\n",
        "  x_{new} = \\dfrac{x_{old}}{x_{max}}\n",
        "$$\n",
        "* Formulas for standardizing: \n",
        "$$\n",
        "  x_{new} = \\dfrac{x_{old}-\\mu}{\\sigma}\n",
        "$$"
      ],
      "metadata": {
        "id": "xTvRqROWIoBi"
      }
    },
    {
      "cell_type": "code",
      "source": [
        "# Normalization\n",
        "for x in money_lst:\n",
        "  data[x] = data[x] / data[x].max()"
      ],
      "metadata": {
        "id": "uZZsFeOjKNyz"
      },
      "execution_count": null,
      "outputs": []
    },
    {
      "cell_type": "code",
      "source": [
        "data['LIMIT_BAL'] = data['LIMIT_BAL'] / data['LIMIT_BAL'].max()"
      ],
      "metadata": {
        "id": "9dZP24_6Nw1E"
      },
      "execution_count": null,
      "outputs": []
    },
    {
      "cell_type": "markdown",
      "source": [
        "#### Check for duplicates"
      ],
      "metadata": {
        "id": "lNnI6HrVDjaQ"
      }
    },
    {
      "cell_type": "code",
      "source": [
        "print(f'There are {data.duplicated().sum()} duplicated elements')"
      ],
      "metadata": {
        "colab": {
          "base_uri": "https://localhost:8080/"
        },
        "id": "_rj6eRZuDryl",
        "outputId": "c26930ee-b3d8-4eea-ee56-5639e7294bab"
      },
      "execution_count": null,
      "outputs": [
        {
          "output_type": "stream",
          "name": "stdout",
          "text": [
            "There are 36 duplicated elements\n"
          ]
        }
      ]
    },
    {
      "cell_type": "code",
      "source": [
        "data.drop_duplicates(inplace=True)"
      ],
      "metadata": {
        "id": "TInw3dg9D_DI"
      },
      "execution_count": null,
      "outputs": []
    },
    {
      "cell_type": "markdown",
      "source": [
        "#### Split the dataset into Training and Test sets"
      ],
      "metadata": {
        "id": "XrQ3OGgIEIdc"
      }
    },
    {
      "cell_type": "code",
      "source": [
        "from sklearn.model_selection import train_test_split"
      ],
      "metadata": {
        "id": "4ARqs0JOEf1v"
      },
      "execution_count": null,
      "outputs": []
    },
    {
      "cell_type": "code",
      "source": [
        "X = data.drop('default payment next month', axis=1)\n",
        "y = data['default payment next month']\n",
        "\n",
        "X_train,X_test,y_train,y_test  = train_test_split(X, y, test_size = 0.2, random_state = 40)"
      ],
      "metadata": {
        "id": "V5SICdNtERCz"
      },
      "execution_count": null,
      "outputs": []
    },
    {
      "cell_type": "markdown",
      "source": [
        "### Step 3: Choose the Machine Learning algorithm and Evaluate the performance\n",
        "\n",
        "In this step, I will try some Machine Learning algorithms and evaluate the performance of each one using some metrics:\n",
        "\n",
        "* **Accuracy**: The proportion of correctly classified instances (both true positives and true negatives) among all instances in the dataset. It is calculated as `(TP + TN) / (TP + TN + FP + FN)`\n",
        "* **Precision**: The proportion of true positives among all instances that are predicted as positive. It is calculated as `TP / (TP + FP)`\n",
        "* **Recall**: The proportion of true positives among all actual positive instances. It is calculated as `TP / (TP + FN)`\n",
        "* **F1 score**: A weighted harmonic mean of precision and recall, used to balance the trade-off between precision and recall. It is calculated as `2 * (precision * recall) / (precision + recall)`"
      ],
      "metadata": {
        "id": "dWXJTj9OGifT"
      }
    },
    {
      "cell_type": "code",
      "source": [
        "from sklearn.metrics import accuracy_score\n",
        "from sklearn.tree import DecisionTreeClassifier\n",
        "from sklearn.ensemble import RandomForestClassifier\n",
        "from sklearn.neighbors import KNeighborsClassifier\n",
        "from sklearn.svm import SVC\n",
        "from sklearn.metrics import f1_score"
      ],
      "metadata": {
        "id": "4MJbjieRHC3O"
      },
      "execution_count": null,
      "outputs": []
    },
    {
      "cell_type": "markdown",
      "source": [
        "#### Random Forest Classifier"
      ],
      "metadata": {
        "id": "ShnwrTs1K7H3"
      }
    },
    {
      "cell_type": "code",
      "source": [
        "# Choose the classifier \n",
        "model = RandomForestClassifier(n_estimators=100, random_state = 42)\n",
        "\n",
        "# Train\n",
        "%time model.fit(X_train, y_train)\n",
        "\n",
        "# Predict\n",
        "y_pred = model.predict(X_test)\n",
        "\n",
        "# Evaluate\n",
        "accuracy = accuracy_score(y_test, y_pred)\n",
        "TP = np.sum(np.logical_and(y_pred == 1, y_test == 1))\n",
        "TN = np.sum(np.logical_and(y_pred == 0, y_test == 0))\n",
        "FP = np.sum(np.logical_and(y_pred == 1, y_test == 0))\n",
        "FN = np.sum(np.logical_and(y_pred == 0, y_test == 1))\n",
        "\n",
        "print('-----------------------------------------------------')\n",
        "print(f'accurracy : {accuracy*100:.3f} %')\n",
        "print(f'True Positives: {TP}')\n",
        "print(f'False Positive: {FP}')\n",
        "print(f'True Negative: {TN}')\n",
        "print(f'False Negative: {FN}')\n",
        "print(f'Precision: {TP/(TP+FP):.3f}')\n",
        "print(f'Recall: {TP/(TP+FN):.3f}')\n",
        "print(f'f1_score : {f1_score(y_test,y_pred):.3f} ')"
      ],
      "metadata": {
        "colab": {
          "base_uri": "https://localhost:8080/"
        },
        "id": "xLz9J5XgHos5",
        "outputId": "7180d7e7-e8a6-4604-c8c5-79ffd5754f1c"
      },
      "execution_count": null,
      "outputs": [
        {
          "output_type": "stream",
          "name": "stdout",
          "text": [
            "CPU times: user 8.9 s, sys: 4.58 ms, total: 8.91 s\n",
            "Wall time: 9.27 s\n",
            "-----------------------------------------------------\n",
            "accurracy : 81.812 %\n",
            "True Positives: 482\n",
            "False Positive: 267\n",
            "True Negative: 4421\n",
            "False Negative: 823\n",
            "Precision: 0.644\n",
            "Recall: 0.369\n",
            "f1_score : 0.469 \n"
          ]
        }
      ]
    },
    {
      "cell_type": "markdown",
      "source": [
        "#### KNN Classifier"
      ],
      "metadata": {
        "id": "5HIoXxdxIdok"
      }
    },
    {
      "cell_type": "code",
      "source": [
        "maxx_accuracy_score = 0\n",
        "for i in np.arange(1,10):\n",
        "  # Choose the classifier \n",
        "  model = KNeighborsClassifier(n_neighbors = i, algorithm = 'brute', metric = 'euclidean')\n",
        "\n",
        "  # Train\n",
        "  %time model.fit(X_train, y_train)\n",
        "\n",
        "  # Predict\n",
        "  y_pred = model.predict(X_test)\n",
        "\n",
        "  # Evaluate\n",
        "  accuracy = accuracy_score(y_test, y_pred)\n",
        "  TP = np.sum(np.logical_and(y_pred == 1, y_test == 1))\n",
        "  TN = np.sum(np.logical_and(y_pred == 0, y_test == 0))\n",
        "  FP = np.sum(np.logical_and(y_pred == 1, y_test == 0))\n",
        "  FN = np.sum(np.logical_and(y_pred == 0, y_test == 1))\n",
        "\n",
        "  print(f'-------------------(n_neighbors = {i})-----------------------')\n",
        "  print(f'accurracy : {accuracy*100:.3f} %')\n",
        "  print(f'True Positives: {TP}')\n",
        "  print(f'False Positive: {FP}')\n",
        "  print(f'True Negative: {TN}')\n",
        "  print(f'False Negative: {FN}')\n",
        "  print(f'Precision: {TP/(TP+FP):.3f}')\n",
        "  print(f'Recall: {TP/(TP+FN):.3f}')\n",
        "  print(f'f1_score : {f1_score(y_test,y_pred):.3f} ')\n",
        "  print('--------------------------------------------------------------')\n",
        "\n",
        "  maxx_accuracy_score = max(maxx_accuracy_score, accuracy)\n",
        "\n",
        "print(f'The maximum accurracy of prediction when using KNN Classifier is : {maxx_accuracy_score*100:.2f} %')"
      ],
      "metadata": {
        "colab": {
          "base_uri": "https://localhost:8080/"
        },
        "id": "dE2cvWUoJdRb",
        "outputId": "f5e94d02-bb76-4473-87a0-6654cc34ca57"
      },
      "execution_count": null,
      "outputs": [
        {
          "output_type": "stream",
          "name": "stdout",
          "text": [
            "CPU times: user 11 ms, sys: 0 ns, total: 11 ms\n",
            "Wall time: 12.5 ms\n",
            "-------------------(n_neighbors = 1)-----------------------\n",
            "accurracy : 72.418 %\n",
            "True Positives: 493\n",
            "False Positive: 841\n",
            "True Negative: 3847\n",
            "False Negative: 812\n",
            "Precision: 0.370\n",
            "Recall: 0.378\n",
            "f1_score : 0.374 \n",
            "--------------------------------------------------------------\n",
            "CPU times: user 10.3 ms, sys: 0 ns, total: 10.3 ms\n",
            "Wall time: 10.2 ms\n",
            "-------------------(n_neighbors = 2)-----------------------\n",
            "accurracy : 78.875 %\n",
            "True Positives: 257\n",
            "False Positive: 218\n",
            "True Negative: 4470\n",
            "False Negative: 1048\n",
            "Precision: 0.541\n",
            "Recall: 0.197\n",
            "f1_score : 0.289 \n",
            "--------------------------------------------------------------\n",
            "CPU times: user 11.1 ms, sys: 0 ns, total: 11.1 ms\n",
            "Wall time: 12.6 ms\n",
            "-------------------(n_neighbors = 3)-----------------------\n",
            "accurracy : 77.991 %\n",
            "True Positives: 463\n",
            "False Positive: 477\n",
            "True Negative: 4211\n",
            "False Negative: 842\n",
            "Precision: 0.493\n",
            "Recall: 0.355\n",
            "f1_score : 0.412 \n",
            "--------------------------------------------------------------\n",
            "CPU times: user 7.53 ms, sys: 0 ns, total: 7.53 ms\n",
            "Wall time: 7.09 ms\n",
            "-------------------(n_neighbors = 4)-----------------------\n",
            "accurracy : 79.610 %\n",
            "True Positives: 321\n",
            "False Positive: 238\n",
            "True Negative: 4450\n",
            "False Negative: 984\n",
            "Precision: 0.574\n",
            "Recall: 0.246\n",
            "f1_score : 0.344 \n",
            "--------------------------------------------------------------\n",
            "CPU times: user 8.03 ms, sys: 0 ns, total: 8.03 ms\n",
            "Wall time: 8.07 ms\n",
            "-------------------(n_neighbors = 5)-----------------------\n",
            "accurracy : 79.042 %\n",
            "True Positives: 427\n",
            "False Positive: 378\n",
            "True Negative: 4310\n",
            "False Negative: 878\n",
            "Precision: 0.530\n",
            "Recall: 0.327\n",
            "f1_score : 0.405 \n",
            "--------------------------------------------------------------\n",
            "CPU times: user 8.78 ms, sys: 0 ns, total: 8.78 ms\n",
            "Wall time: 8.77 ms\n",
            "-------------------(n_neighbors = 6)-----------------------\n",
            "accurracy : 80.177 %\n",
            "True Positives: 341\n",
            "False Positive: 224\n",
            "True Negative: 4464\n",
            "False Negative: 964\n",
            "Precision: 0.604\n",
            "Recall: 0.261\n",
            "f1_score : 0.365 \n",
            "--------------------------------------------------------------\n",
            "CPU times: user 6.83 ms, sys: 34 µs, total: 6.86 ms\n",
            "Wall time: 6.17 ms\n",
            "-------------------(n_neighbors = 7)-----------------------\n",
            "accurracy : 80.210 %\n",
            "True Positives: 432\n",
            "False Positive: 313\n",
            "True Negative: 4375\n",
            "False Negative: 873\n",
            "Precision: 0.580\n",
            "Recall: 0.331\n",
            "f1_score : 0.421 \n",
            "--------------------------------------------------------------\n",
            "CPU times: user 6.04 ms, sys: 1.02 ms, total: 7.06 ms\n",
            "Wall time: 6.39 ms\n",
            "-------------------(n_neighbors = 8)-----------------------\n",
            "accurracy : 80.728 %\n",
            "True Positives: 366\n",
            "False Positive: 216\n",
            "True Negative: 4472\n",
            "False Negative: 939\n",
            "Precision: 0.629\n",
            "Recall: 0.280\n",
            "f1_score : 0.388 \n",
            "--------------------------------------------------------------\n",
            "CPU times: user 7.61 ms, sys: 0 ns, total: 7.61 ms\n",
            "Wall time: 7.63 ms\n",
            "-------------------(n_neighbors = 9)-----------------------\n",
            "accurracy : 80.911 %\n",
            "True Positives: 433\n",
            "False Positive: 272\n",
            "True Negative: 4416\n",
            "False Negative: 872\n",
            "Precision: 0.614\n",
            "Recall: 0.332\n",
            "f1_score : 0.431 \n",
            "--------------------------------------------------------------\n",
            "The maximum accurracy of prediction when using KNN Classifier is : 80.91 %\n"
          ]
        }
      ]
    },
    {
      "cell_type": "markdown",
      "source": [
        "#### Decision Tree"
      ],
      "metadata": {
        "id": "Reb7K_HaLaN4"
      }
    },
    {
      "cell_type": "code",
      "source": [
        "# Choose the classifier \n",
        "model = DecisionTreeClassifier(criterion = 'entropy', random_state = 50)\n",
        "\n",
        "# Train\n",
        "%time model.fit(X_train, y_train)\n",
        "\n",
        "# Predict\n",
        "y_pred = model.predict(X_test)\n",
        "\n",
        "# Evaluate\n",
        "accuracy = accuracy_score(y_test, y_pred)\n",
        "TP = np.sum(np.logical_and(y_pred == 1, y_test == 1))\n",
        "TN = np.sum(np.logical_and(y_pred == 0, y_test == 0))\n",
        "FP = np.sum(np.logical_and(y_pred == 1, y_test == 0))\n",
        "FN = np.sum(np.logical_and(y_pred == 0, y_test == 1))\n",
        "\n",
        "print('-----------------------------------------------------')\n",
        "print(f'accurracy : {accuracy*100:.3f} %')\n",
        "print(f'True Positives: {TP}')\n",
        "print(f'False Positive: {FP}')\n",
        "print(f'True Negative: {TN}')\n",
        "print(f'False Negative: {FN}')\n",
        "print(f'Precision: {TP/(TP+FP):.3f}')\n",
        "print(f'Recall: {TP/(TP+FN):.3f}')\n",
        "print(f'f1_score : {f1_score(y_test,y_pred):.3f} ')"
      ],
      "metadata": {
        "colab": {
          "base_uri": "https://localhost:8080/"
        },
        "id": "Y_Irb4dkLcux",
        "outputId": "fbce3e54-85fa-4cf7-9212-b16068a3b2d7"
      },
      "execution_count": null,
      "outputs": [
        {
          "output_type": "stream",
          "name": "stdout",
          "text": [
            "CPU times: user 1.12 s, sys: 4.84 ms, total: 1.13 s\n",
            "Wall time: 1.39 s\n",
            "-----------------------------------------------------\n",
            "accurracy : 72.601 %\n",
            "True Positives: 515\n",
            "False Positive: 852\n",
            "True Negative: 3836\n",
            "False Negative: 790\n",
            "Precision: 0.377\n",
            "Recall: 0.395\n",
            "f1_score : 0.385 \n"
          ]
        }
      ]
    },
    {
      "cell_type": "markdown",
      "source": [
        "#### Support Vector Machine "
      ],
      "metadata": {
        "id": "vMNTiTYuMnSj"
      }
    },
    {
      "cell_type": "code",
      "source": [
        "# Choose the classifier \n",
        "model = SVC()\n",
        "\n",
        "# Train\n",
        "%time model.fit(X_train, y_train)\n",
        "\n",
        "# Predict\n",
        "y_pred = model.predict(X_test)\n",
        "\n",
        "# Evaluate\n",
        "accuracy = accuracy_score(y_test, y_pred)\n",
        "TP = np.sum(np.logical_and(y_pred == 1, y_test == 1))\n",
        "TN = np.sum(np.logical_and(y_pred == 0, y_test == 0))\n",
        "FP = np.sum(np.logical_and(y_pred == 1, y_test == 0))\n",
        "FN = np.sum(np.logical_and(y_pred == 0, y_test == 1))\n",
        "\n",
        "print('-----------------------------------------------------')\n",
        "print(f'accurracy : {accuracy*100:.3f} %')\n",
        "print(f'True Positives: {TP}')\n",
        "print(f'False Positive: {FP}')\n",
        "print(f'True Negative: {TN}')\n",
        "print(f'False Negative: {FN}')\n",
        "print(f'Precision: {TP/(TP+FP):.3f}')\n",
        "print(f'Recall: {TP/(TP+FN):.3f}')\n",
        "print(f'f1_score : {f1_score(y_test,y_pred):.3f} ')"
      ],
      "metadata": {
        "colab": {
          "base_uri": "https://localhost:8080/"
        },
        "id": "FLrgDAQrMrt6",
        "outputId": "209e4465-cfd3-42f8-a397-f7113dde8478"
      },
      "execution_count": null,
      "outputs": [
        {
          "output_type": "stream",
          "name": "stdout",
          "text": [
            "CPU times: user 21.8 s, sys: 93.2 ms, total: 21.9 s\n",
            "Wall time: 22.8 s\n",
            "-----------------------------------------------------\n",
            "accurracy : 79.877 %\n",
            "True Positives: 444\n",
            "False Positive: 345\n",
            "True Negative: 4343\n",
            "False Negative: 861\n",
            "Precision: 0.563\n",
            "Recall: 0.340\n",
            "f1_score : 0.424 \n"
          ]
        }
      ]
    },
    {
      "cell_type": "markdown",
      "source": [
        "## Conclusion\n",
        "\n",
        "I have some conclusions after finishing this project: \n",
        "\n",
        "* **Preprocessing the data** is really important. The performance of the predictive model depends heavily on the quality of the pre-processed data. So it's recommended to process the data thoroughly, step by step\n",
        "* Among these model, **Random Forest Classifier** performs relatively good with the highest accuracy: 81,81 %. Although the other metrics are not so good like precision, recall or F1 score but I think that, the main reason is about the original dataset itself."
      ],
      "metadata": {
        "id": "4JETpaKUaEGb"
      }
    }
  ]
}